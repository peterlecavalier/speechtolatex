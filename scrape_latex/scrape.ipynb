{
 "cells": [
  {
   "cell_type": "code",
   "execution_count": 4,
   "metadata": {},
   "outputs": [
    {
     "ename": "DetexBinaryAbsent",
     "evalue": "Exception Raised Because Of No Detex Binary",
     "output_type": "error",
     "traceback": [
      "\u001b[1;31m---------------------------------------------------------------------------\u001b[0m",
      "\u001b[1;31mDetexBinaryAbsent\u001b[0m                         Traceback (most recent call last)",
      "Cell \u001b[1;32mIn [4], line 5\u001b[0m\n\u001b[0;32m      3\u001b[0m DETEX_PATH \u001b[38;5;241m=\u001b[39m \u001b[38;5;124m'\u001b[39m\u001b[38;5;124m./opendetex/detex.h\u001b[39m\u001b[38;5;124m'\u001b[39m\n\u001b[0;32m      4\u001b[0m \u001b[38;5;66;03m# This will extract LaTeX source from ArXiv parse the data to a `Section` Object\u001b[39;00m\n\u001b[1;32m----> 5\u001b[0m paper \u001b[38;5;241m=\u001b[39m \u001b[43mArxivPaper\u001b[49m\u001b[38;5;241;43m.\u001b[39;49m\u001b[43mfrom_arxiv_id\u001b[49m\u001b[43m(\u001b[49m\u001b[38;5;124;43m'\u001b[39;49m\u001b[38;5;124;43m1706.03762\u001b[39;49m\u001b[38;5;124;43m'\u001b[39;49m\u001b[43m,\u001b[49m\u001b[43m \u001b[49m\u001b[43mLATEX_DIR\u001b[49m\u001b[43m)\u001b[49m\n\u001b[0;32m      6\u001b[0m \u001b[38;5;66;03m# The will create a `ResearchPaper`\u001b[39;00m\n\u001b[0;32m      7\u001b[0m \u001b[38;5;66;03m#paperdoc = ResearchPaperFactory.from_arxiv_record(paper) \u001b[39;00m\n",
      "File \u001b[1;32m~\\AppData\\Local\\Packages\\PythonSoftwareFoundation.Python.3.10_qbz5n2kfra8p0\\LocalCache\\local-packages\\Python310\\site-packages\\arxiv_miner\\paper.py:282\u001b[0m, in \u001b[0;36mArxivPaper.from_arxiv_id\u001b[1;34m(cls, axid, root_papers_path, detex_path)\u001b[0m\n\u001b[0;32m    280\u001b[0m \u001b[38;5;129m@classmethod\u001b[39m\n\u001b[0;32m    281\u001b[0m \u001b[38;5;28;01mdef\u001b[39;00m \u001b[38;5;21mfrom_arxiv_id\u001b[39m(\u001b[38;5;28mcls\u001b[39m,axid,root_papers_path,detex_path\u001b[38;5;241m=\u001b[39m\u001b[38;5;28;01mNone\u001b[39;00m):\n\u001b[1;32m--> 282\u001b[0m     axobj \u001b[38;5;241m=\u001b[39m \u001b[38;5;28;43mcls\u001b[39;49m\u001b[43m(\u001b[49m\u001b[43maxid\u001b[49m\u001b[43m,\u001b[49m\u001b[43mroot_papers_path\u001b[49m\u001b[43m,\u001b[49m\u001b[43mbuild_paper\u001b[49m\u001b[38;5;241;43m=\u001b[39;49m\u001b[38;5;28;43;01mTrue\u001b[39;49;00m\u001b[43m,\u001b[49m\u001b[43mdetex_path\u001b[49m\u001b[38;5;241;43m=\u001b[39;49m\u001b[43mdetex_path\u001b[49m\u001b[43m)\u001b[49m\n\u001b[0;32m    283\u001b[0m     \u001b[38;5;28;01mreturn\u001b[39;00m axobj\n",
      "File \u001b[1;32m~\\AppData\\Local\\Packages\\PythonSoftwareFoundation.Python.3.10_qbz5n2kfra8p0\\LocalCache\\local-packages\\Python310\\site-packages\\arxiv_miner\\paper.py:57\u001b[0m, in \u001b[0;36mArxivPaper.__init__\u001b[1;34m(self, paper_id, root_papers_path, build_paper, detex_path)\u001b[0m\n\u001b[0;32m     55\u001b[0m \u001b[38;5;28mself\u001b[39m\u001b[38;5;241m.\u001b[39mpaper_id \u001b[38;5;241m=\u001b[39m paper_id\n\u001b[0;32m     56\u001b[0m \u001b[38;5;28;01mif\u001b[39;00m build_paper: \u001b[38;5;66;03m# Builds and Saves to FS. \u001b[39;00m\n\u001b[1;32m---> 57\u001b[0m     \u001b[38;5;28;43mself\u001b[39;49m\u001b[38;5;241;43m.\u001b[39;49m\u001b[43m_build_paper\u001b[49m\u001b[43m(\u001b[49m\u001b[43m)\u001b[49m\n",
      "File \u001b[1;32m~\\AppData\\Local\\Packages\\PythonSoftwareFoundation.Python.3.10_qbz5n2kfra8p0\\LocalCache\\local-packages\\Python310\\site-packages\\arxiv_miner\\paper.py:227\u001b[0m, in \u001b[0;36mArxivPaper._build_paper\u001b[1;34m(self, save_data, store_latex)\u001b[0m\n\u001b[0;32m    225\u001b[0m     os\u001b[38;5;241m.\u001b[39mremove(downloaded_data)\n\u001b[0;32m    226\u001b[0m \u001b[38;5;66;03m# $ Save the Metadata\u001b[39;00m\n\u001b[1;32m--> 227\u001b[0m \u001b[38;5;28;43mself\u001b[39;49m\u001b[38;5;241;43m.\u001b[39;49m\u001b[43m_extract_info_from_latex\u001b[49m\u001b[43m(\u001b[49m\u001b[43m)\u001b[49m\n\u001b[0;32m    229\u001b[0m shutil\u001b[38;5;241m.\u001b[39mrmtree(\u001b[38;5;28mself\u001b[39m\u001b[38;5;241m.\u001b[39mlatex_root_path) \u001b[38;5;66;03m# remove Latex source data.\u001b[39;00m\n\u001b[0;32m    230\u001b[0m \u001b[38;5;66;03m# print(\"Extracted Latex Data\")\u001b[39;00m\n",
      "File \u001b[1;32m~\\AppData\\Local\\Packages\\PythonSoftwareFoundation.Python.3.10_qbz5n2kfra8p0\\LocalCache\\local-packages\\Python310\\site-packages\\arxiv_miner\\paper.py:184\u001b[0m, in \u001b[0;36mArxivPaper._extract_info_from_latex\u001b[1;34m(self)\u001b[0m\n\u001b[0;32m    181\u001b[0m \u001b[38;5;28mself\u001b[39m\u001b[38;5;241m.\u001b[39mpaper_processing_meta\u001b[38;5;241m.\u001b[39mlatex_files \u001b[38;5;241m=\u001b[39m \u001b[38;5;28mlen\u001b[39m(\u001b[38;5;28mself\u001b[39m\u001b[38;5;241m.\u001b[39mtex_files)\n\u001b[0;32m    182\u001b[0m \u001b[38;5;28mself\u001b[39m\u001b[38;5;241m.\u001b[39mpaper_processing_meta\u001b[38;5;241m.\u001b[39mpdf_only \u001b[38;5;241m=\u001b[39m \u001b[38;5;28;01mTrue\u001b[39;00m \u001b[38;5;28;01mif\u001b[39;00m \u001b[38;5;28mlen\u001b[39m(\u001b[38;5;28mself\u001b[39m\u001b[38;5;241m.\u001b[39mtex_files) \u001b[38;5;241m==\u001b[39m \u001b[38;5;241m0\u001b[39m \u001b[38;5;28;01melse\u001b[39;00m \u001b[38;5;28;01mFalse\u001b[39;00m\n\u001b[1;32m--> 184\u001b[0m latex_processor \u001b[38;5;241m=\u001b[39m \u001b[43mArxivLatexParser\u001b[49m\u001b[43m(\u001b[49m\u001b[43mdetex_path\u001b[49m\u001b[38;5;241;43m=\u001b[39;49m\u001b[38;5;28;43mself\u001b[39;49m\u001b[38;5;241;43m.\u001b[39;49m\u001b[43mdetex_path\u001b[49m\u001b[43m)\u001b[49m\n\u001b[0;32m    185\u001b[0m paper_procesesing_results,arxiv_parsed_doc \u001b[38;5;241m=\u001b[39m latex_processor(\u001b[38;5;28mself\u001b[39m) \u001b[38;5;66;03m# Latex_processor on paper.\u001b[39;00m\n\u001b[0;32m    186\u001b[0m \u001b[38;5;28mself\u001b[39m\u001b[38;5;241m.\u001b[39mpaper_processing_meta\u001b[38;5;241m.\u001b[39mmined \u001b[38;5;241m=\u001b[39m \u001b[38;5;28;01mTrue\u001b[39;00m \u001b[38;5;28;01mif\u001b[39;00m \u001b[38;5;129;01mnot\u001b[39;00m paper_procesesing_results\u001b[38;5;241m.\u001b[39mparsing_error \u001b[38;5;129;01mand\u001b[39;00m \u001b[38;5;129;01mnot\u001b[39;00m \u001b[38;5;28mself\u001b[39m\u001b[38;5;241m.\u001b[39mpaper_processing_meta\u001b[38;5;241m.\u001b[39mpdf_only \u001b[38;5;28;01melse\u001b[39;00m \u001b[38;5;28;01mFalse\u001b[39;00m\n",
      "File \u001b[1;32m~\\AppData\\Local\\Packages\\PythonSoftwareFoundation.Python.3.10_qbz5n2kfra8p0\\LocalCache\\local-packages\\Python310\\site-packages\\arxiv_miner\\paper.py:486\u001b[0m, in \u001b[0;36mArxivLatexParser.__init__\u001b[1;34m(self, max_section_limit, detex_path)\u001b[0m\n\u001b[0;32m    485\u001b[0m \u001b[38;5;28;01mdef\u001b[39;00m \u001b[38;5;21m__init__\u001b[39m(\u001b[38;5;28mself\u001b[39m,max_section_limit\u001b[38;5;241m=\u001b[39m\u001b[38;5;241m20\u001b[39m, detex_path\u001b[38;5;241m=\u001b[39m\u001b[38;5;28;01mNone\u001b[39;00m):\n\u001b[1;32m--> 486\u001b[0m     \u001b[38;5;28mself\u001b[39m\u001b[38;5;241m.\u001b[39msingle_doc_parser \u001b[38;5;241m=\u001b[39m \u001b[43mSingleDocumentLatexParser\u001b[49m\u001b[43m(\u001b[49m\u001b[43mmax_section_limit\u001b[49m\u001b[38;5;241;43m=\u001b[39;49m\u001b[43mmax_section_limit\u001b[49m\u001b[43m,\u001b[49m\u001b[43m \u001b[49m\u001b[43mdetex_path\u001b[49m\u001b[38;5;241;43m=\u001b[39;49m\u001b[43mdetex_path\u001b[49m\u001b[43m)\u001b[49m\n\u001b[0;32m    487\u001b[0m     \u001b[38;5;28mself\u001b[39m\u001b[38;5;241m.\u001b[39mmulti_doc_parser \u001b[38;5;241m=\u001b[39m MultiDocumentLatexParser(max_section_limit\u001b[38;5;241m=\u001b[39mmax_section_limit, detex_path\u001b[38;5;241m=\u001b[39mdetex_path)\n",
      "File \u001b[1;32m~\\AppData\\Local\\Packages\\PythonSoftwareFoundation.Python.3.10_qbz5n2kfra8p0\\LocalCache\\local-packages\\Python310\\site-packages\\arxiv_miner\\paper.py:332\u001b[0m, in \u001b[0;36mSingleDocumentLatexParser.__init__\u001b[1;34m(self, max_section_limit, detex_path)\u001b[0m\n\u001b[0;32m    331\u001b[0m \u001b[38;5;28;01mdef\u001b[39;00m \u001b[38;5;21m__init__\u001b[39m(\u001b[38;5;28mself\u001b[39m, max_section_limit\u001b[38;5;241m=\u001b[39m\u001b[38;5;241m20\u001b[39m,detex_path\u001b[38;5;241m=\u001b[39m\u001b[38;5;28;01mNone\u001b[39;00m):\n\u001b[1;32m--> 332\u001b[0m     \u001b[38;5;28;43msuper\u001b[39;49m\u001b[43m(\u001b[49m\u001b[43m)\u001b[49m\u001b[38;5;241;43m.\u001b[39;49m\u001b[38;5;21;43m__init__\u001b[39;49m\u001b[43m(\u001b[49m\u001b[43mmax_section_limit\u001b[49m\u001b[38;5;241;43m=\u001b[39;49m\u001b[43mmax_section_limit\u001b[49m\u001b[43m,\u001b[49m\u001b[43mdetex_path\u001b[49m\u001b[38;5;241;43m=\u001b[39;49m\u001b[43mdetex_path\u001b[49m\u001b[43m)\u001b[49m\n",
      "File \u001b[1;32m~\\AppData\\Local\\Packages\\PythonSoftwareFoundation.Python.3.10_qbz5n2kfra8p0\\LocalCache\\local-packages\\Python310\\site-packages\\arxiv_miner\\latex_parser.py:119\u001b[0m, in \u001b[0;36mLatexInformationParser.__init__\u001b[1;34m(self, max_section_limit, detex_path)\u001b[0m\n\u001b[0;32m    117\u001b[0m \u001b[38;5;28;01mdef\u001b[39;00m \u001b[38;5;21m__init__\u001b[39m(\u001b[38;5;28mself\u001b[39m,max_section_limit\u001b[38;5;241m=\u001b[39m\u001b[38;5;241m20\u001b[39m,detex_path\u001b[38;5;241m=\u001b[39m\u001b[38;5;28;01mNone\u001b[39;00m):\n\u001b[0;32m    118\u001b[0m     \u001b[38;5;28mself\u001b[39m\u001b[38;5;241m.\u001b[39mmax_section_limit \u001b[38;5;241m=\u001b[39m max_section_limit\n\u001b[1;32m--> 119\u001b[0m     \u001b[38;5;28mself\u001b[39m\u001b[38;5;241m.\u001b[39mtext_extractor \u001b[38;5;241m=\u001b[39m \u001b[43mLatexToText\u001b[49m\u001b[43m(\u001b[49m\u001b[43mdetex_path\u001b[49m\u001b[38;5;241;43m=\u001b[39;49m\u001b[43mdetex_path\u001b[49m\u001b[43m)\u001b[49m\n",
      "File \u001b[1;32m~\\AppData\\Local\\Packages\\PythonSoftwareFoundation.Python.3.10_qbz5n2kfra8p0\\LocalCache\\local-packages\\Python310\\site-packages\\arxiv_miner\\latex_parser.py:73\u001b[0m, in \u001b[0;36mLatexToText.__init__\u001b[1;34m(self, detex_path)\u001b[0m\n\u001b[0;32m     71\u001b[0m \u001b[38;5;28;01mif\u001b[39;00m \u001b[38;5;129;01mnot\u001b[39;00m \u001b[38;5;28mself\u001b[39m\u001b[38;5;241m.\u001b[39mbinary_exists(\u001b[38;5;28mself\u001b[39m\u001b[38;5;241m.\u001b[39mdetex_path):\n\u001b[0;32m     72\u001b[0m     \u001b[38;5;28;01mif\u001b[39;00m detex_path \u001b[38;5;129;01mis\u001b[39;00m \u001b[38;5;28;01mNone\u001b[39;00m:\n\u001b[1;32m---> 73\u001b[0m         \u001b[38;5;28;01mraise\u001b[39;00m DetexBinaryAbsent()\n\u001b[0;32m     74\u001b[0m     \u001b[38;5;28;01melif\u001b[39;00m \u001b[38;5;129;01mnot\u001b[39;00m \u001b[38;5;28mself\u001b[39m\u001b[38;5;241m.\u001b[39mbinary_exists(detex_path):\n\u001b[0;32m     75\u001b[0m         \u001b[38;5;28;01mraise\u001b[39;00m DetexBinaryAbsent()\n",
      "\u001b[1;31mDetexBinaryAbsent\u001b[0m: Exception Raised Because Of No Detex Binary"
     ]
    }
   ],
   "source": [
    "from arxiv_miner import ArxivPaper, ResearchPaperFactory\n",
    "LATEX_DIR = './papers'\n",
    "DETEX_PATH = './opendetex/detex.h'\n",
    "# This will extract LaTeX source from ArXiv parse the data to a `Section` Object\n",
    "paper = ArxivPaper.from_arxiv_id('1706.03762', LATEX_DIR)\n",
    "# The will create a `ResearchPaper`\n",
    "#paperdoc = ResearchPaperFactory.from_arxiv_record(paper) "
   ]
  }
 ],
 "metadata": {
  "kernelspec": {
   "display_name": "Python 3",
   "language": "python",
   "name": "python3"
  },
  "language_info": {
   "codemirror_mode": {
    "name": "ipython",
    "version": 3
   },
   "file_extension": ".py",
   "mimetype": "text/x-python",
   "name": "python",
   "nbconvert_exporter": "python",
   "pygments_lexer": "ipython3",
   "version": "3.10.11"
  }
 },
 "nbformat": 4,
 "nbformat_minor": 2
}
