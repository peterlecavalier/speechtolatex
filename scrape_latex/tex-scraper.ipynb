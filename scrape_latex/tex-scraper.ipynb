{
 "cells": [
  {
   "cell_type": "code",
   "execution_count": 1,
   "id": "1dab929a",
   "metadata": {},
   "outputs": [
    {
     "name": "stdout",
     "output_type": "stream",
     "text": [
      "Requirement already satisfied: arxiv_miner in /Users/tobiasjacobson/anaconda3/lib/python3.8/site-packages (2.0.3)\n",
      "Requirement already satisfied: dateparser in /Users/tobiasjacobson/anaconda3/lib/python3.8/site-packages (from arxiv_miner) (1.2.0)\n",
      "Requirement already satisfied: tex2py in /Users/tobiasjacobson/anaconda3/lib/python3.8/site-packages (from arxiv_miner) (0.0.5)\n",
      "Requirement already satisfied: elasticsearch in /Users/tobiasjacobson/anaconda3/lib/python3.8/site-packages (from arxiv_miner) (8.13.0)\n",
      "Requirement already satisfied: numpy in /Users/tobiasjacobson/anaconda3/lib/python3.8/site-packages (from arxiv_miner) (1.18.5)\n",
      "Requirement already satisfied: arxiv==0.5.3 in /Users/tobiasjacobson/anaconda3/lib/python3.8/site-packages (from arxiv_miner) (0.5.3)\n",
      "Requirement already satisfied: luqum in /Users/tobiasjacobson/anaconda3/lib/python3.8/site-packages (from arxiv_miner) (0.13.0)\n",
      "Requirement already satisfied: matplotlib in /Users/tobiasjacobson/anaconda3/lib/python3.8/site-packages (from arxiv_miner) (3.5.0)\n",
      "Requirement already satisfied: expiringdict in /Users/tobiasjacobson/anaconda3/lib/python3.8/site-packages (from arxiv_miner) (1.2.2)\n",
      "Requirement already satisfied: click in /Users/tobiasjacobson/anaconda3/lib/python3.8/site-packages (from arxiv_miner) (8.0.3)\n",
      "Requirement already satisfied: elasticsearch-dsl in /Users/tobiasjacobson/anaconda3/lib/python3.8/site-packages (from arxiv_miner) (8.13.0)\n",
      "Requirement already satisfied: pandas in /Users/tobiasjacobson/anaconda3/lib/python3.8/site-packages (from arxiv_miner) (1.3.4)\n",
      "Requirement already satisfied: requests in /Users/tobiasjacobson/anaconda3/lib/python3.8/site-packages (from arxiv==0.5.3->arxiv_miner) (2.26.0)\n",
      "Requirement already satisfied: feedparser in /Users/tobiasjacobson/anaconda3/lib/python3.8/site-packages (from arxiv==0.5.3->arxiv_miner) (6.0.11)\n",
      "Requirement already satisfied: regex!=2019.02.19,!=2021.8.27 in /Users/tobiasjacobson/anaconda3/lib/python3.8/site-packages (from dateparser->arxiv_miner) (2021.8.3)\n",
      "Requirement already satisfied: python-dateutil in /Users/tobiasjacobson/anaconda3/lib/python3.8/site-packages (from dateparser->arxiv_miner) (2.8.2)\n",
      "Requirement already satisfied: tzlocal in /Users/tobiasjacobson/anaconda3/lib/python3.8/site-packages (from dateparser->arxiv_miner) (5.2)\n",
      "Requirement already satisfied: pytz in /Users/tobiasjacobson/anaconda3/lib/python3.8/site-packages (from dateparser->arxiv_miner) (2021.3)\n",
      "Requirement already satisfied: elastic-transport<9,>=8.13 in /Users/tobiasjacobson/anaconda3/lib/python3.8/site-packages (from elasticsearch->arxiv_miner) (8.13.0)\n",
      "Requirement already satisfied: certifi in /Users/tobiasjacobson/anaconda3/lib/python3.8/site-packages (from elastic-transport<9,>=8.13->elasticsearch->arxiv_miner) (2021.10.8)\n",
      "Requirement already satisfied: urllib3<3,>=1.26.2 in /Users/tobiasjacobson/anaconda3/lib/python3.8/site-packages (from elastic-transport<9,>=8.13->elasticsearch->arxiv_miner) (1.26.7)\n",
      "Requirement already satisfied: sgmllib3k in /Users/tobiasjacobson/anaconda3/lib/python3.8/site-packages (from feedparser->arxiv==0.5.3->arxiv_miner) (1.0.0)\n",
      "Requirement already satisfied: ply>=3.11 in /Users/tobiasjacobson/anaconda3/lib/python3.8/site-packages (from luqum->arxiv_miner) (3.11)\n",
      "Requirement already satisfied: cycler>=0.10 in /Users/tobiasjacobson/anaconda3/lib/python3.8/site-packages (from matplotlib->arxiv_miner) (0.11.0)\n",
      "Requirement already satisfied: pillow>=6.2.0 in /Users/tobiasjacobson/anaconda3/lib/python3.8/site-packages (from matplotlib->arxiv_miner) (8.4.0)\n",
      "Requirement already satisfied: pyparsing>=2.2.1 in /Users/tobiasjacobson/anaconda3/lib/python3.8/site-packages (from matplotlib->arxiv_miner) (3.0.4)\n",
      "Requirement already satisfied: fonttools>=4.22.0 in /Users/tobiasjacobson/anaconda3/lib/python3.8/site-packages (from matplotlib->arxiv_miner) (4.25.0)\n",
      "Requirement already satisfied: kiwisolver>=1.0.1 in /Users/tobiasjacobson/anaconda3/lib/python3.8/site-packages (from matplotlib->arxiv_miner) (1.3.1)\n",
      "Requirement already satisfied: packaging>=20.0 in /Users/tobiasjacobson/anaconda3/lib/python3.8/site-packages (from matplotlib->arxiv_miner) (21.3)\n",
      "Requirement already satisfied: six>=1.5 in /Users/tobiasjacobson/anaconda3/lib/python3.8/site-packages (from python-dateutil->dateparser->arxiv_miner) (1.16.0)\n",
      "Requirement already satisfied: charset-normalizer~=2.0.0 in /Users/tobiasjacobson/anaconda3/lib/python3.8/site-packages (from requests->arxiv==0.5.3->arxiv_miner) (2.0.4)\n",
      "Requirement already satisfied: idna<4,>=2.5 in /Users/tobiasjacobson/anaconda3/lib/python3.8/site-packages (from requests->arxiv==0.5.3->arxiv_miner) (3.3)\n",
      "Requirement already satisfied: pytest in /Users/tobiasjacobson/anaconda3/lib/python3.8/site-packages (from tex2py->arxiv_miner) (6.2.4)\n",
      "Requirement already satisfied: pptree==2.0 in /Users/tobiasjacobson/anaconda3/lib/python3.8/site-packages (from tex2py->arxiv_miner) (2.0)\n",
      "Requirement already satisfied: coveralls==1.1 in /Users/tobiasjacobson/anaconda3/lib/python3.8/site-packages (from tex2py->arxiv_miner) (1.1)\n",
      "Requirement already satisfied: pytest-cov==2.5.1 in /Users/tobiasjacobson/anaconda3/lib/python3.8/site-packages (from tex2py->arxiv_miner) (2.5.1)\n",
      "Requirement already satisfied: coverage==3.7.1 in /Users/tobiasjacobson/anaconda3/lib/python3.8/site-packages (from tex2py->arxiv_miner) (3.7.1)\n",
      "Requirement already satisfied: TexSoup==0.1.4 in /Users/tobiasjacobson/anaconda3/lib/python3.8/site-packages (from tex2py->arxiv_miner) (0.1.4)\n",
      "Requirement already satisfied: docopt>=0.6.1 in /Users/tobiasjacobson/anaconda3/lib/python3.8/site-packages (from coveralls==1.1->tex2py->arxiv_miner) (0.6.2)\n",
      "Requirement already satisfied: attrs>=19.2.0 in /Users/tobiasjacobson/anaconda3/lib/python3.8/site-packages (from pytest->tex2py->arxiv_miner) (21.2.0)\n",
      "Requirement already satisfied: iniconfig in /Users/tobiasjacobson/anaconda3/lib/python3.8/site-packages (from pytest->tex2py->arxiv_miner) (1.1.1)\n",
      "Requirement already satisfied: pluggy<1.0.0a1,>=0.12 in /Users/tobiasjacobson/anaconda3/lib/python3.8/site-packages (from pytest->tex2py->arxiv_miner) (0.13.1)\n",
      "Requirement already satisfied: py>=1.8.2 in /Users/tobiasjacobson/anaconda3/lib/python3.8/site-packages (from pytest->tex2py->arxiv_miner) (1.10.0)\n",
      "Requirement already satisfied: toml in /Users/tobiasjacobson/anaconda3/lib/python3.8/site-packages (from pytest->tex2py->arxiv_miner) (0.10.2)\n",
      "Requirement already satisfied: backports.zoneinfo in /Users/tobiasjacobson/anaconda3/lib/python3.8/site-packages (from tzlocal->dateparser->arxiv_miner) (0.2.1)\n",
      "Note: you may need to restart the kernel to use updated packages.\n",
      "Requirement already satisfied: rpyc in /Users/tobiasjacobson/anaconda3/lib/python3.8/site-packages (6.0.0)\n",
      "Requirement already satisfied: plumbum in /Users/tobiasjacobson/anaconda3/lib/python3.8/site-packages (from rpyc) (1.8.2)\n",
      "Note: you may need to restart the kernel to use updated packages.\n"
     ]
    }
   ],
   "source": [
    "%pip install arxiv_miner"
   ]
  },
  {
   "cell_type": "code",
   "execution_count": null,
   "id": "6e775789",
   "metadata": {},
   "outputs": [],
   "source": [
    "%pip install rpyc"
   ]
  },
  {
   "cell_type": "markdown",
   "id": "a9f59a09",
   "metadata": {},
   "source": [
    "Some files are resitricted and cannnot be accesed using the library. Only the uncommented indicies have been tested thus far. Paper indetifiers were taken from the arxiv website."
   ]
  },
  {
   "cell_type": "code",
   "execution_count": 2,
   "id": "8fbb4b25",
   "metadata": {},
   "outputs": [],
   "source": [
    "paper_ids = ['1706.03762', '2404.01817','2404.01685', '2404.01815', '2404.01804', '2404.01159', '2404.00383', '2404.00251', '2404.00208', '2404.00685', '2404.00618', '2404.00039', '2403.20163', '2403.20033', '2403.19709', '2404.01640', '2404.01341', '2404.00768', '2404.00683', '2404.00529', '2404.00527', '2404.00041', '2404.01198', '2404.00270', '2403.20326', '2403.20307', '2403.20165', '2403.19878', '2403.19867', '2403.20283']#, '2403.19911']\n"
   ]
  },
  {
   "cell_type": "markdown",
   "id": "c3b52b44",
   "metadata": {},
   "source": [
    "The code below for some reason only runs once and forces a batched tar.gz output which is un-usable"
   ]
  },
  {
   "cell_type": "code",
   "execution_count": 3,
   "id": "e3f1396e",
   "metadata": {},
   "outputs": [],
   "source": [
    "# from arxiv_miner import ArxivPaper, ResearchPaperFactory\n",
    "# LATEX_DIR = './papers2'\n",
    "# DETEX_PATH = './opendetex/detex.h'\n",
    "# # This will extract LaTeX source from ArXiv parse the data to a `Section` Object\n",
    "# for pid in paper_ids:\n",
    "#     ArxivPaper.from_arxiv_id(pid, LATEX_DIR)"
   ]
  },
  {
   "cell_type": "markdown",
   "id": "1f26416a",
   "metadata": {},
   "source": [
    "As such we have to run them one by one"
   ]
  },
  {
   "cell_type": "code",
   "execution_count": 4,
   "id": "df324d4e",
   "metadata": {},
   "outputs": [
    {
     "name": "stdout",
     "output_type": "stream",
     "text": [
      "No CSO Classifier Present\n"
     ]
    }
   ],
   "source": [
    "from arxiv_miner import ArxivPaper, ResearchPaperFactory\n",
    "LATEX_DIR = './papers'\n",
    "DETEX_PATH = './opendetex/detex.h'\n",
    "\n",
    "# This will extract LaTeX source from ArXiv parse the data to a `Section` Object\n",
    "\n",
    "# paper = ArxivPaper.from_arxiv_id('1706.03762', LATEX_DIR)\n",
    "# paper2 = ArxivPaper.from_arxiv_id('2404.01685', LATEX_DIR)\n",
    "# paper3 = ArxivPaper.from_arxiv_id('2404.01817', LATEX_DIR)\n",
    "# paper4 = ArxivPaper.from_arxiv_id('2404.01815', LATEX_DIR)\n",
    "# paper5 = ArxivPaper.from_arxiv_id('2404.01804', LATEX_DIR)\n",
    "\n",
    "# paper = ArxivPaper.from_arxiv_id('2404.01159', LATEX_DIR)\n",
    "# paper = ArxivPaper.from_arxiv_id('2404.00383', LATEX_DIR)\n",
    "# paper = ArxivPaper.from_arxiv_id('2404.00251', LATEX_DIR)\n",
    "# paper = ArxivPaper.from_arxiv_id('2404.00208', LATEX_DIR)\n",
    "# paper = ArxivPaper.from_arxiv_id('2404.00685', LATEX_DIR) #10\n",
    "\n",
    "# paper = ArxivPaper.from_arxiv_id('2404.00618', LATEX_DIR)\n",
    "# paper = ArxivPaper.from_arxiv_id('2404.00039', LATEX_DIR)\n",
    "# paper = ArxivPaper.from_arxiv_id('2403.20163', LATEX_DIR)\n",
    "# paper = ArxivPaper.from_arxiv_id('2403.20033', LATEX_DIR)\n",
    "# paper = ArxivPaper.from_arxiv_id('2403.19709', LATEX_DIR)\n",
    "\n",
    "# paper = ArxivPaper.from_arxiv_id('2404.01640', LATEX_DIR)\n",
    "# paper = ArxivPaper.from_arxiv_id('2404.01341', LATEX_DIR)\n",
    "# paper = ArxivPaper.from_arxiv_id('2404.00768', LATEX_DIR)\n",
    "# paper = ArxivPaper.from_arxiv_id('2404.00683', LATEX_DIR)\n",
    "# paper = ArxivPaper.from_arxiv_id('2404.00529', LATEX_DIR) #20\n",
    "\n",
    "# paper = ArxivPaper.from_arxiv_id('2404.00527', LATEX_DIR)\n",
    "# paper = ArxivPaper.from_arxiv_id('2404.00041', LATEX_DIR)\n",
    "# paper = ArxivPaper.from_arxiv_id('2404.01198', LATEX_DIR)\n",
    "# paper = ArxivPaper.from_arxiv_id('2404.00270', LATEX_DIR)\n",
    "# paper = ArxivPaper.from_arxiv_id('2403.20326', LATEX_DIR)\n",
    "\n",
    "# paper = ArxivPaper.from_arxiv_id('2403.20307', LATEX_DIR)\n",
    "# paper = ArxivPaper.from_arxiv_id('2403.20165', LATEX_DIR)\n",
    "# paper = ArxivPaper.from_arxiv_id('2403.19878', LATEX_DIR)\n",
    "# paper = ArxivPaper.from_arxiv_id('2403.19867', LATEX_DIR)\n",
    "# paper = ArxivPaper.from_arxiv_id('2403.20283', LATEX_DIR) #30\n",
    "\n",
    "# paper = ArxivPaper.from_arxiv_id('', LATEX_DIR)\n",
    "# paper = ArxivPaper.from_arxiv_id('', LATEX_DIR)\n",
    "# paper = ArxivPaper.from_arxiv_id('', LATEX_DIR)\n",
    "# paper = ArxivPaper.from_arxiv_id('', LATEX_DIR)\n",
    "# paper = ArxivPaper.from_arxiv_id('', LATEX_DIR)\n",
    "\n",
    "# The will create a `ResearchPaper`\n",
    "#paperdoc = ResearchPaperFactory.from_arxiv_record(paper) "
   ]
  },
  {
   "cell_type": "code",
   "execution_count": null,
   "id": "1e6c7d4e",
   "metadata": {},
   "outputs": [],
   "source": []
  }
 ],
 "metadata": {
  "kernelspec": {
   "display_name": "Python 3 (ipykernel)",
   "language": "python",
   "name": "python3"
  },
  "language_info": {
   "codemirror_mode": {
    "name": "ipython",
    "version": 3
   },
   "file_extension": ".py",
   "mimetype": "text/x-python",
   "name": "python",
   "nbconvert_exporter": "python",
   "pygments_lexer": "ipython3",
   "version": "3.8.5"
  }
 },
 "nbformat": 4,
 "nbformat_minor": 5
}
