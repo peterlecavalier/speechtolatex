{
 "cells": [
  {
   "cell_type": "markdown",
   "id": "e874f2af-5fe9-4551-b0a0-d43332480e44",
   "metadata": {},
   "source": [
    "# EDA on TeX-Code"
   ]
  },
  {
   "cell_type": "code",
   "execution_count": 1,
   "id": "4f561912-07e5-4086-8120-5b61ec740b89",
   "metadata": {},
   "outputs": [],
   "source": [
    "import pandas as pd\n",
    "import matplotlib.pyplot as plt\n",
    "import numpy as np\n",
    "from datasets import load_dataset\n",
    "import random"
   ]
  },
  {
   "cell_type": "code",
   "execution_count": 2,
   "id": "894d0055-a68f-4efe-9f2c-3e3ef02ccc89",
   "metadata": {},
   "outputs": [
    {
     "name": "stdout",
     "output_type": "stream",
     "text": [
      "TEXT\n",
      "\n",
      "R _ { 1 2 } K _ { 1 } R _ { 2 1 } d K _ { 2 } = d K _ { 2 } R _ { 1 2 } K _ { 1 } R _ { 1 2 } ^ { - 1 } ,\n",
      "\n",
      "E _ { n } - E _ { m } = \\frac { \\lambda ^ { \\prime } ( n ^ { 2 } y ^ { 2 } - m ^ { 2 } ) } { y ^ { 2 } } .\n",
      "\n",
      "\\sigma ^ { 1 } + i \\sigma ^ { 2 } = f ( \\sigma ^ { 1 } + i \\sigma ^ { 2 } )\n",
      "\n",
      "B | _ { \\partial \\Sigma _ { 3 } } \\rightarrow B | _ { \\partial \\Sigma _ { 3 } } - \\Lambda | _ { \\partial \\Sigma _ { 3 } } .R\n",
      "\n",
      "\\phi _ { i } ^ { \\prime } ( x ) = \\phi _ { i } ( x ) + \\delta _ { \\mathrm { B R S } } [ \\phi _ { i } ] \\Theta [ \\phi ]\n",
      "\n",
      "\\partial _ { t } \\bar { \\sigma } _ { k } ^ { ( g f ) } = \\frac { 1 } { \\alpha } \\partial _ { t } \\gamma _ { k } + e \\partial _ { t } \\zeta _ { k } + \\dots\n",
      "\n",
      "x _ { i } = y _ { i } \\left( 1 - \\eta _ { 1 } \\eta _ { 2 } \\right) , ~ ~ \\sum _ { 0 } ^ { 3 } y _ { i } ^ { 2 } = 1\n",
      "\n",
      "\\delta e ^ { s A } = \\int _ { 0 } ^ { s } d t \\, e ^ { t A } \\delta A e ^ { ( s - t ) A } \\, ,\n",
      "\n",
      "\\left( \\begin{array} { c | c } { 1 } & { b ( u ) \\vec { u } ^ { \\mathrm { T } } } \\\\ \\hline { 0 } & { I } \\\\ \\end{array} \\right)\n",
      "\n",
      "n _ { o } + n _ { v } + n _ { s } + n _ { c } = a _ { 1 } = 6 4 \\ ,\n",
      "\n",
      "F _ { 0 a } ^ { \\Lambda } \\cong \\frac { q _ { ( e l ) } ^ { \\Lambda } } { r ^ { 3 } } \\, x ^ { a } \\quad ; \\quad { \\tilde { F } } _ { 0 a } ^ { \\Lambda } \\cong \\frac { q _ { ( m a g ) } ^ { \\Lambda } } { r ^ { 3 } } \\, x ^ { a }\n",
      "\n",
      "\\varepsilon _ { 2 j - 1 } ^ { 1 } = \\varepsilon _ { 2 j } ^ { 1 } \\; \\; \\; \\mathrm { ~ f o r ~ } j \\geq 1\n",
      "\n",
      "B ^ { \\prime \\prime } ( x ^ { 2 } ) = 4 \\pi G e ^ { 2 } H ^ { \\prime \\prime } ( x ^ { 2 } ) B ( x ^ { 2 } ) .\n",
      "\n",
      "{ \\cal N } = \\int d ^ { 4 } x \\sum _ { f } f \\frac { \\delta } { \\delta f } \\ ,\n",
      "\n"
     ]
    }
   ],
   "source": [
    "file=open('final_png_formulas.txt')\n",
    "for i in range(15):\n",
    "    print(file.readline())"
   ]
  },
  {
   "cell_type": "markdown",
   "id": "937f48fb-4190-486e-ba56-44385503518e",
   "metadata": {},
   "source": [
    "So none of the lines have any `$tex_code$` format, it's just the raw code. "
   ]
  },
  {
   "cell_type": "code",
   "execution_count": 13,
   "id": "74b7a224-ff94-4e0b-ab10-dac644f2834c",
   "metadata": {},
   "outputs": [],
   "source": [
    "df = pd.read_table('final_png_formulas.txt')"
   ]
  },
  {
   "cell_type": "code",
   "execution_count": 11,
   "id": "7edfba6d-6b50-4aee-bd20-d9e18a81e234",
   "metadata": {},
   "outputs": [],
   "source": [
    "def length(entry):\n",
    "    return len(entry)"
   ]
  },
  {
   "cell_type": "code",
   "execution_count": 15,
   "id": "36032928-cdae-42d1-81d6-2b95523b2222",
   "metadata": {},
   "outputs": [],
   "source": [
    "df['len']=df['TEXT'].map(length)"
   ]
  },
  {
   "cell_type": "code",
   "execution_count": 17,
   "id": "eada4aa3-ca1b-4c9d-8562-33ea825c26a3",
   "metadata": {},
   "outputs": [
    {
     "data": {
      "text/html": [
       "<div>\n",
       "<style scoped>\n",
       "    .dataframe tbody tr th:only-of-type {\n",
       "        vertical-align: middle;\n",
       "    }\n",
       "\n",
       "    .dataframe tbody tr th {\n",
       "        vertical-align: top;\n",
       "    }\n",
       "\n",
       "    .dataframe thead th {\n",
       "        text-align: right;\n",
       "    }\n",
       "</style>\n",
       "<table border=\"1\" class=\"dataframe\">\n",
       "  <thead>\n",
       "    <tr style=\"text-align: right;\">\n",
       "      <th></th>\n",
       "      <th>len</th>\n",
       "    </tr>\n",
       "  </thead>\n",
       "  <tbody>\n",
       "    <tr>\n",
       "      <th>count</th>\n",
       "      <td>238329.000000</td>\n",
       "    </tr>\n",
       "    <tr>\n",
       "      <th>mean</th>\n",
       "      <td>168.605142</td>\n",
       "    </tr>\n",
       "    <tr>\n",
       "      <th>std</th>\n",
       "      <td>112.791026</td>\n",
       "    </tr>\n",
       "    <tr>\n",
       "      <th>min</th>\n",
       "      <td>13.000000</td>\n",
       "    </tr>\n",
       "    <tr>\n",
       "      <th>25%</th>\n",
       "      <td>96.000000</td>\n",
       "    </tr>\n",
       "    <tr>\n",
       "      <th>50%</th>\n",
       "      <td>139.000000</td>\n",
       "    </tr>\n",
       "    <tr>\n",
       "      <th>75%</th>\n",
       "      <td>209.000000</td>\n",
       "    </tr>\n",
       "    <tr>\n",
       "      <th>max</th>\n",
       "      <td>2177.000000</td>\n",
       "    </tr>\n",
       "  </tbody>\n",
       "</table>\n",
       "</div>"
      ],
      "text/plain": [
       "                 len\n",
       "count  238329.000000\n",
       "mean      168.605142\n",
       "std       112.791026\n",
       "min        13.000000\n",
       "25%        96.000000\n",
       "50%       139.000000\n",
       "75%       209.000000\n",
       "max      2177.000000"
      ]
     },
     "execution_count": 17,
     "metadata": {},
     "output_type": "execute_result"
    }
   ],
   "source": [
    "df.describe()"
   ]
  },
  {
   "cell_type": "markdown",
   "id": "1bc15a62-64c5-4315-8ab4-ac0159a1dc61",
   "metadata": {},
   "source": [
    "So of the ~240k lines of code, the line has on average 170 characters with the smallest line of code only having 13 characters and the longest having 2177."
   ]
  },
  {
   "cell_type": "code",
   "execution_count": 33,
   "id": "f731e20d-9d8e-4180-862e-a8da995fa709",
   "metadata": {},
   "outputs": [
    {
     "data": {
      "text/html": [
       "<div>\n",
       "<style scoped>\n",
       "    .dataframe tbody tr th:only-of-type {\n",
       "        vertical-align: middle;\n",
       "    }\n",
       "\n",
       "    .dataframe tbody tr th {\n",
       "        vertical-align: top;\n",
       "    }\n",
       "\n",
       "    .dataframe thead th {\n",
       "        text-align: right;\n",
       "    }\n",
       "</style>\n",
       "<table border=\"1\" class=\"dataframe\">\n",
       "  <thead>\n",
       "    <tr style=\"text-align: right;\">\n",
       "      <th></th>\n",
       "      <th>TEXT</th>\n",
       "      <th>len</th>\n",
       "    </tr>\n",
       "  </thead>\n",
       "  <tbody>\n",
       "    <tr>\n",
       "      <th>204</th>\n",
       "      <td>\\left\\{ \\begin{array} { r c l } { \\delta _ { M...</td>\n",
       "      <td>1457</td>\n",
       "    </tr>\n",
       "    <tr>\n",
       "      <th>416</th>\n",
       "      <td>\\begin{array} { l c l l } { \\mathrm { f l o o ...</td>\n",
       "      <td>1369</td>\n",
       "    </tr>\n",
       "    <tr>\n",
       "      <th>958</th>\n",
       "      <td>\\begin{array} { r c l } { ( i _ { \\hat { k } }...</td>\n",
       "      <td>1272</td>\n",
       "    </tr>\n",
       "    <tr>\n",
       "      <th>2016</th>\n",
       "      <td>\\begin{array} { r c l } { V _ { a } } &amp; { = } ...</td>\n",
       "      <td>1046</td>\n",
       "    </tr>\n",
       "    <tr>\n",
       "      <th>2125</th>\n",
       "      <td>\\begin{array} { l c l } { y _ { 6 } } &amp; { = } ...</td>\n",
       "      <td>1229</td>\n",
       "    </tr>\n",
       "    <tr>\n",
       "      <th>...</th>\n",
       "      <td>...</td>\n",
       "      <td>...</td>\n",
       "    </tr>\n",
       "    <tr>\n",
       "      <th>235700</th>\n",
       "      <td>\\begin{array} { r c l } { T _ { 1 } P _ { i } ...</td>\n",
       "      <td>1139</td>\n",
       "    </tr>\n",
       "    <tr>\n",
       "      <th>236007</th>\n",
       "      <td>\\begin{array} { r c l } { \\chi _ { \\iota , \\ka...</td>\n",
       "      <td>1183</td>\n",
       "    </tr>\n",
       "    <tr>\n",
       "      <th>237688</th>\n",
       "      <td>\\left\\{ \\begin{array} { r c l } { \\delta { \\ca...</td>\n",
       "      <td>1072</td>\n",
       "    </tr>\n",
       "    <tr>\n",
       "      <th>237985</th>\n",
       "      <td>\\begin{array} { l l } { \\{ \\hat { G } _ { - \\f...</td>\n",
       "      <td>1256</td>\n",
       "    </tr>\n",
       "    <tr>\n",
       "      <th>238138</th>\n",
       "      <td>\\begin{array} { l l c } { \\omega \\frac { \\disp...</td>\n",
       "      <td>1672</td>\n",
       "    </tr>\n",
       "  </tbody>\n",
       "</table>\n",
       "<p>369 rows × 2 columns</p>\n",
       "</div>"
      ],
      "text/plain": [
       "                                                     TEXT   len\n",
       "204     \\left\\{ \\begin{array} { r c l } { \\delta _ { M...  1457\n",
       "416     \\begin{array} { l c l l } { \\mathrm { f l o o ...  1369\n",
       "958     \\begin{array} { r c l } { ( i _ { \\hat { k } }...  1272\n",
       "2016    \\begin{array} { r c l } { V _ { a } } & { = } ...  1046\n",
       "2125    \\begin{array} { l c l } { y _ { 6 } } & { = } ...  1229\n",
       "...                                                   ...   ...\n",
       "235700  \\begin{array} { r c l } { T _ { 1 } P _ { i } ...  1139\n",
       "236007  \\begin{array} { r c l } { \\chi _ { \\iota , \\ka...  1183\n",
       "237688  \\left\\{ \\begin{array} { r c l } { \\delta { \\ca...  1072\n",
       "237985  \\begin{array} { l l } { \\{ \\hat { G } _ { - \\f...  1256\n",
       "238138  \\begin{array} { l l c } { \\omega \\frac { \\disp...  1672\n",
       "\n",
       "[369 rows x 2 columns]"
      ]
     },
     "execution_count": 33,
     "metadata": {},
     "output_type": "execute_result"
    }
   ],
   "source": [
    "df[df['len'] > 1000]"
   ]
  },
  {
   "cell_type": "markdown",
   "id": "da6016ff-ab2a-47b6-b13c-9457bf877c20",
   "metadata": {},
   "source": [
    "So one potential issue, although hopefully not, is that each line is, well, a single line. It's not really readable for a user. This could potentially be solved with postprocessing, i.e. the model will generate some code that looks something like:\n",
    "\n",
    "`\\begin{align*} x = 2// y = 5\\end{align*}`\n",
    "\n",
    "And we would just manually format the printing using some logic like 'oh put a newline character after every `\\begin{..}`, `\\\\`, `\\end{..}` etc.\n",
    "\n",
    "Another thing is that we are just faithfully assuming each line of code will *actually compile*. That's kind of a dangerous assumption.\n",
    "\n",
    "Let's check if we have some attributes common to tex code"
   ]
  },
  {
   "cell_type": "code",
   "execution_count": 78,
   "id": "bc5147c7-2e99-400f-9c58-760f6b6d16bf",
   "metadata": {},
   "outputs": [
    {
     "data": {
      "text/html": [
       "<div>\n",
       "<style scoped>\n",
       "    .dataframe tbody tr th:only-of-type {\n",
       "        vertical-align: middle;\n",
       "    }\n",
       "\n",
       "    .dataframe tbody tr th {\n",
       "        vertical-align: top;\n",
       "    }\n",
       "\n",
       "    .dataframe thead th {\n",
       "        text-align: right;\n",
       "    }\n",
       "</style>\n",
       "<table border=\"1\" class=\"dataframe\">\n",
       "  <thead>\n",
       "    <tr style=\"text-align: right;\">\n",
       "      <th></th>\n",
       "      <th>TEXT</th>\n",
       "      <th>len</th>\n",
       "    </tr>\n",
       "  </thead>\n",
       "  <tbody>\n",
       "  </tbody>\n",
       "</table>\n",
       "</div>"
      ],
      "text/plain": [
       "Empty DataFrame\n",
       "Columns: [TEXT, len]\n",
       "Index: []"
      ]
     },
     "execution_count": 78,
     "metadata": {},
     "output_type": "execute_result"
    }
   ],
   "source": [
    "df[df['TEXT'].str.contains('\\\\\\\\begin{equation}')]"
   ]
  },
  {
   "cell_type": "code",
   "execution_count": 77,
   "id": "31974a22-6de6-41ce-b47c-76f0593facba",
   "metadata": {},
   "outputs": [
    {
     "data": {
      "text/html": [
       "<div>\n",
       "<style scoped>\n",
       "    .dataframe tbody tr th:only-of-type {\n",
       "        vertical-align: middle;\n",
       "    }\n",
       "\n",
       "    .dataframe tbody tr th {\n",
       "        vertical-align: top;\n",
       "    }\n",
       "\n",
       "    .dataframe thead th {\n",
       "        text-align: right;\n",
       "    }\n",
       "</style>\n",
       "<table border=\"1\" class=\"dataframe\">\n",
       "  <thead>\n",
       "    <tr style=\"text-align: right;\">\n",
       "      <th></th>\n",
       "      <th>TEXT</th>\n",
       "      <th>len</th>\n",
       "    </tr>\n",
       "  </thead>\n",
       "  <tbody>\n",
       "  </tbody>\n",
       "</table>\n",
       "</div>"
      ],
      "text/plain": [
       "Empty DataFrame\n",
       "Columns: [TEXT, len]\n",
       "Index: []"
      ]
     },
     "execution_count": 77,
     "metadata": {},
     "output_type": "execute_result"
    }
   ],
   "source": [
    "df[df['TEXT'].str.contains('\\\\\\\\begin{align}')]"
   ]
  },
  {
   "cell_type": "markdown",
   "id": "9cd0cda9-6d41-4eb2-8191-c13c96dbbcc6",
   "metadata": {},
   "source": [
    "OK, so no entries have the formatting for align or equation environments. We will definitely want this for generating the code, so we will likely have to append and prepend these to some samples in the dataset before training. "
   ]
  },
  {
   "cell_type": "code",
   "execution_count": 81,
   "id": "37a9acc8-5ef9-4da6-af3c-2f6653e36c3e",
   "metadata": {},
   "outputs": [
    {
     "data": {
      "image/png": "[encoded data removed]",
      "text/plain": [
       "<Figure size 432x288 with 1 Axes>"
      ]
     },
     "metadata": {
      "needs_background": "light"
     },
     "output_type": "display_data"
    }
   ],
   "source": [
    "df['len'].hist()\n",
    "plt.title('Equation lengths')\n",
    "plt.ylabel('Number of equations')\n",
    "plt.xlabel('Equation length')\n",
    "plt.show()"
   ]
  },
  {
   "cell_type": "markdown",
   "id": "25080101-129e-4a1d-bb27-bb9f465859e4",
   "metadata": {},
   "source": [
    "Okay, so most of our samples are pretty short. This should be fine, most generated code is probably not that long anyways. \n",
    "\n",
    "Let's also save the subset we will translate and train with initially. "
   ]
  },
  {
   "cell_type": "code",
   "execution_count": 85,
   "id": "bdc84317-e9e1-4a90-97f6-58784d27e810",
   "metadata": {},
   "outputs": [],
   "source": [
    "file=open('final_png_formulas.txt')\n",
    "lines=file.readlines()"
   ]
  },
  {
   "cell_type": "code",
   "execution_count": 88,
   "id": "dd13c398-4d93-46d9-885f-1a8f4e5c158a",
   "metadata": {},
   "outputs": [],
   "source": [
    "subset = random.sample(lines, 15000)"
   ]
  },
  {
   "cell_type": "code",
   "execution_count": 95,
   "id": "8c616e2c-66b6-4a9e-9616-06b776d9dda7",
   "metadata": {},
   "outputs": [],
   "source": [
    "with open('formulas_subset.txt', 'w', encoding='utf-8') as file:\n",
    "    for line in subset:\n",
    "        file.write(line)"
   ]
  },
  {
   "cell_type": "markdown",
   "id": "26086327-1e11-4176-ab0a-92c9b91f2ca9",
   "metadata": {},
   "source": [
    "let's check it has the same distribution of sample lengths quickly and also estimate the cost to translate it all."
   ]
  },
  {
   "cell_type": "code",
   "execution_count": 104,
   "id": "d55c7d64-018c-4c39-b523-ac8a5459bfb8",
   "metadata": {},
   "outputs": [
    {
     "data": {
      "image/png": "[encoded data removed]",
      "text/plain": [
       "<Figure size 432x288 with 1 Axes>"
      ]
     },
     "metadata": {
      "needs_background": "light"
     },
     "output_type": "display_data"
    }
   ],
   "source": [
    "plt.hist([len(i) for i in subset])\n",
    "plt.title('Subset equation lengths')\n",
    "plt.show()"
   ]
  },
  {
   "cell_type": "markdown",
   "id": "205b5602-32d3-4bc1-9415-5cbdcd67cef1",
   "metadata": {},
   "source": [
    "I also want to collect an even smaller subset of data so that I can test the pipeline for translating before committing to the big dataset"
   ]
  },
  {
   "cell_type": "code",
   "execution_count": 4,
   "id": "aaaa401e-3433-4fdb-8231-767d180d6bb8",
   "metadata": {},
   "outputs": [],
   "source": [
    "file=open('final_png_formulas.txt')\n",
    "lines=file.readlines()\n",
    "subset = random.sample(lines, 500)\n",
    "\n",
    "with open('formulas_subset_small.txt', 'w', encoding='utf-8') as file:\n",
    "    for line in subset:\n",
    "        file.write(line)"
   ]
  },
  {
   "cell_type": "markdown",
   "id": "8a12735f-da9b-496f-9f69-b40f0fdf5979",
   "metadata": {},
   "source": [
    "## Estimating pricing\n",
    "\n",
    "We'll have to make some assumtions to estimate this. Firstly, we'll be using gpt-3.5-turbo-instruct to do the translations which costs\n",
    "\n",
    "`$`0.0015 per 1000 tokens read\n",
    "\n",
    "`$`0.0020 per 1000 tokens generated\n",
    "\n",
    "Let's assume that each token is about 5 characters. Additionally, let's set the max tokens that the model can generate to 400 so that full responses can be generated. Then the cost is hopefully around"
   ]
  },
  {
   "cell_type": "code",
   "execution_count": 108,
   "id": "be4b5e24-a701-4e9a-b51d-74487cd8fbf9",
   "metadata": {},
   "outputs": [
    {
     "name": "stdout",
     "output_type": "stream",
     "text": [
      "Estimated cost:  12.7719069\n"
     ]
    }
   ],
   "source": [
    "print(\"Estimated cost: \", (sum([len(i) for i in subset]) / 5 / 1000 * .0015) + (400 * 15000 / 1000 * .002))"
   ]
  },
  {
   "cell_type": "markdown",
   "id": "5ade1484-716b-4c19-a07f-4dba8de9b445",
   "metadata": {},
   "source": [
    "Let's cross our fingers and hope that's true!"
   ]
  }
 ],
 "metadata": {
  "kernelspec": {
   "display_name": "Python 3",
   "language": "python",
   "name": "python3"
  },
  "language_info": {
   "codemirror_mode": {
    "name": "ipython",
    "version": 3
   },
   "file_extension": ".py",
   "mimetype": "text/x-python",
   "name": "python",
   "nbconvert_exporter": "python",
   "pygments_lexer": "ipython3",
   "version": "3.8.8"
  }
 },
 "nbformat": 4,
 "nbformat_minor": 5
}
